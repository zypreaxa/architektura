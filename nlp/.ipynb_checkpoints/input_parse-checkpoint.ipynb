{
 "cells": [
  {
   "cell_type": "code",
   "execution_count": 9,
   "id": "8f273835-d495-4051-b583-577c9b94ece0",
   "metadata": {},
   "outputs": [
    {
     "name": "stdout",
     "output_type": "stream",
     "text": [
      "Model loaded successfully.\n",
      "Entity: savory               Label: FLAVOR_PROFILE\n",
      "Entity: dinner               Label: MEAL_TYPE\n",
      "Entity: meat                 Label: INGREDIENT\n",
      "Entity: serves 4             Label: SERVING_SIZE\n"
     ]
    }
   ],
   "source": [
    "import spacy\n",
    "\n",
    "# Attempt to load the model\n",
    "nlp = spacy.load(\"./foodstuffs\")\n",
    "print(\"Model loaded successfully.\")\n",
    "# Define a sample text\n",
    "text = \"I want a savory dinner with loads of meat an a nice garnish that serves 4.\"\n",
    "doc = nlp(text)\n",
    "\n",
    "# Check and display entities\n",
    "if doc.ents:\n",
    "    for ent in doc.ents:\n",
    "        print(f\"Entity: {ent.text:{20}} Label: {ent.label_}\")\n",
    "else:\n",
    "    print(\"No entities found.\")"
   ]
  }
 ],
 "metadata": {
  "kernelspec": {
   "display_name": "Python (architektura)",
   "language": "python",
   "name": "architektura"
  },
  "language_info": {
   "codemirror_mode": {
    "name": "ipython",
    "version": 3
   },
   "file_extension": ".py",
   "mimetype": "text/x-python",
   "name": "python",
   "nbconvert_exporter": "python",
   "pygments_lexer": "ipython3",
   "version": "3.12.3"
  }
 },
 "nbformat": 4,
 "nbformat_minor": 5
}
